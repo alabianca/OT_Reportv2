{
 "cells": [
  {
   "cell_type": "code",
   "execution_count": 1,
   "metadata": {},
   "outputs": [],
   "source": [
    "import pandas as pd\n",
    "import numpy as np\n",
    "import matplotlib as plt\n",
    "from pytime import pytime\n",
    "\n",
    "%matplotlib inline"
   ]
  },
  {
   "cell_type": "code",
   "execution_count": 2,
   "metadata": {},
   "outputs": [],
   "source": [
    "\n",
    "ot_df = pd.read_csv('./events.csv')\n",
    "ot_df_cpy = ot_df.copy()\n",
    "\n"
   ]
  },
  {
   "cell_type": "markdown",
   "metadata": {},
   "source": [
    "# Clean Data\n",
    "\n",
    "Get the date column in a common format between different template versions"
   ]
  },
  {
   "cell_type": "code",
   "execution_count": 3,
   "metadata": {},
   "outputs": [
    {
     "data": {
      "text/html": [
       "<div>\n",
       "<style scoped>\n",
       "    .dataframe tbody tr th:only-of-type {\n",
       "        vertical-align: middle;\n",
       "    }\n",
       "\n",
       "    .dataframe tbody tr th {\n",
       "        vertical-align: top;\n",
       "    }\n",
       "\n",
       "    .dataframe thead th {\n",
       "        text-align: right;\n",
       "    }\n",
       "</style>\n",
       "<table border=\"1\" class=\"dataframe\">\n",
       "  <thead>\n",
       "    <tr style=\"text-align: right;\">\n",
       "      <th></th>\n",
       "      <th>calories</th>\n",
       "      <th>splat_pts</th>\n",
       "      <th>steps</th>\n",
       "      <th>date</th>\n",
       "      <th>time</th>\n",
       "      <th>coach</th>\n",
       "      <th>template_version</th>\n",
       "      <th>avg_heart_rate</th>\n",
       "      <th>peak_heart_rate</th>\n",
       "    </tr>\n",
       "  </thead>\n",
       "  <tbody>\n",
       "    <tr>\n",
       "      <th>0</th>\n",
       "      <td>786</td>\n",
       "      <td>16</td>\n",
       "      <td>3,739</td>\n",
       "      <td>11/04/2018</td>\n",
       "      <td>10:00AM</td>\n",
       "      <td>Shelby</td>\n",
       "      <td>1</td>\n",
       "      <td>146</td>\n",
       "      <td>173</td>\n",
       "    </tr>\n",
       "    <tr>\n",
       "      <th>1</th>\n",
       "      <td>714</td>\n",
       "      <td>16</td>\n",
       "      <td>2,682</td>\n",
       "      <td>10/05/18</td>\n",
       "      <td>7:10AM</td>\n",
       "      <td>Kevin</td>\n",
       "      <td>2</td>\n",
       "      <td>143</td>\n",
       "      <td>181</td>\n",
       "    </tr>\n",
       "    <tr>\n",
       "      <th>2</th>\n",
       "      <td>754</td>\n",
       "      <td>18</td>\n",
       "      <td>4,219</td>\n",
       "      <td>11/14/2018</td>\n",
       "      <td>7:10AM</td>\n",
       "      <td>Shelby</td>\n",
       "      <td>1</td>\n",
       "      <td>145</td>\n",
       "      <td>173</td>\n",
       "    </tr>\n",
       "    <tr>\n",
       "      <th>3</th>\n",
       "      <td>789</td>\n",
       "      <td>20</td>\n",
       "      <td>3,222</td>\n",
       "      <td>10/26/2018</td>\n",
       "      <td>7:10AM</td>\n",
       "      <td>Kevin</td>\n",
       "      <td>1</td>\n",
       "      <td>150</td>\n",
       "      <td>177</td>\n",
       "    </tr>\n",
       "    <tr>\n",
       "      <th>4</th>\n",
       "      <td>910</td>\n",
       "      <td>32</td>\n",
       "      <td>3,142</td>\n",
       "      <td>10/01/18</td>\n",
       "      <td>6:05AM</td>\n",
       "      <td>Shelby</td>\n",
       "      <td>2</td>\n",
       "      <td>159</td>\n",
       "      <td>191</td>\n",
       "    </tr>\n",
       "    <tr>\n",
       "      <th>5</th>\n",
       "      <td>756</td>\n",
       "      <td>14</td>\n",
       "      <td>3,435</td>\n",
       "      <td>11/18/2018</td>\n",
       "      <td>10:00AM</td>\n",
       "      <td>Stephen</td>\n",
       "      <td>1</td>\n",
       "      <td>140</td>\n",
       "      <td>178</td>\n",
       "    </tr>\n",
       "    <tr>\n",
       "      <th>6</th>\n",
       "      <td>656</td>\n",
       "      <td>21</td>\n",
       "      <td>4</td>\n",
       "      <td>10/12/2018</td>\n",
       "      <td>7:10AM</td>\n",
       "      <td>Kevin</td>\n",
       "      <td>1</td>\n",
       "      <td>136</td>\n",
       "      <td>180</td>\n",
       "    </tr>\n",
       "    <tr>\n",
       "      <th>7</th>\n",
       "      <td>779</td>\n",
       "      <td>20</td>\n",
       "      <td>3,561</td>\n",
       "      <td>11/16/2018</td>\n",
       "      <td>7:10AM</td>\n",
       "      <td>Kevin</td>\n",
       "      <td>1</td>\n",
       "      <td>150</td>\n",
       "      <td>177</td>\n",
       "    </tr>\n",
       "    <tr>\n",
       "      <th>8</th>\n",
       "      <td>1265</td>\n",
       "      <td>46</td>\n",
       "      <td>5,969</td>\n",
       "      <td>10/07/18</td>\n",
       "      <td>12:30PM</td>\n",
       "      <td>Kate</td>\n",
       "      <td>2</td>\n",
       "      <td>155</td>\n",
       "      <td>187</td>\n",
       "    </tr>\n",
       "    <tr>\n",
       "      <th>9</th>\n",
       "      <td>697</td>\n",
       "      <td>11</td>\n",
       "      <td>3,215</td>\n",
       "      <td>11/30/2018</td>\n",
       "      <td>7:10AM</td>\n",
       "      <td>Kevin</td>\n",
       "      <td>1</td>\n",
       "      <td>146</td>\n",
       "      <td>185</td>\n",
       "    </tr>\n",
       "    <tr>\n",
       "      <th>10</th>\n",
       "      <td>843</td>\n",
       "      <td>32</td>\n",
       "      <td>4,739</td>\n",
       "      <td>11/06/2018</td>\n",
       "      <td>7:10AM</td>\n",
       "      <td>Stephen</td>\n",
       "      <td>1</td>\n",
       "      <td>157</td>\n",
       "      <td>182</td>\n",
       "    </tr>\n",
       "    <tr>\n",
       "      <th>11</th>\n",
       "      <td>678</td>\n",
       "      <td>12</td>\n",
       "      <td>4,018</td>\n",
       "      <td>11/21/2018</td>\n",
       "      <td>7:10AM</td>\n",
       "      <td>Shelby</td>\n",
       "      <td>1</td>\n",
       "      <td>136</td>\n",
       "      <td>180</td>\n",
       "    </tr>\n",
       "    <tr>\n",
       "      <th>12</th>\n",
       "      <td>790</td>\n",
       "      <td>11</td>\n",
       "      <td>4</td>\n",
       "      <td>10/15/2018</td>\n",
       "      <td>6:05AM</td>\n",
       "      <td>Kevin</td>\n",
       "      <td>1</td>\n",
       "      <td>144</td>\n",
       "      <td>169</td>\n",
       "    </tr>\n",
       "    <tr>\n",
       "      <th>13</th>\n",
       "      <td>838</td>\n",
       "      <td>28</td>\n",
       "      <td>4,262</td>\n",
       "      <td>10/24/2018</td>\n",
       "      <td>7:10AM</td>\n",
       "      <td>Shelby</td>\n",
       "      <td>1</td>\n",
       "      <td>153</td>\n",
       "      <td>180</td>\n",
       "    </tr>\n",
       "    <tr>\n",
       "      <th>14</th>\n",
       "      <td>741</td>\n",
       "      <td>13</td>\n",
       "      <td>0</td>\n",
       "      <td>11/09/2018</td>\n",
       "      <td>7:10AM</td>\n",
       "      <td>Kevin</td>\n",
       "      <td>1</td>\n",
       "      <td>147</td>\n",
       "      <td>176</td>\n",
       "    </tr>\n",
       "    <tr>\n",
       "      <th>15</th>\n",
       "      <td>765</td>\n",
       "      <td>26</td>\n",
       "      <td>4,576</td>\n",
       "      <td>11/03/2018</td>\n",
       "      <td>12:30PM</td>\n",
       "      <td>Kevin</td>\n",
       "      <td>1</td>\n",
       "      <td>154</td>\n",
       "      <td>185</td>\n",
       "    </tr>\n",
       "    <tr>\n",
       "      <th>16</th>\n",
       "      <td>877</td>\n",
       "      <td>27</td>\n",
       "      <td>3,072</td>\n",
       "      <td>09/28/18</td>\n",
       "      <td>6:05AM</td>\n",
       "      <td>Kevin</td>\n",
       "      <td>2</td>\n",
       "      <td>151</td>\n",
       "      <td>184</td>\n",
       "    </tr>\n",
       "    <tr>\n",
       "      <th>17</th>\n",
       "      <td>903</td>\n",
       "      <td>38</td>\n",
       "      <td>2,868</td>\n",
       "      <td>10/03/18</td>\n",
       "      <td>5:30PM</td>\n",
       "      <td>Shelby</td>\n",
       "      <td>2</td>\n",
       "      <td>158</td>\n",
       "      <td>183</td>\n",
       "    </tr>\n",
       "    <tr>\n",
       "      <th>18</th>\n",
       "      <td>790</td>\n",
       "      <td>27</td>\n",
       "      <td>4,569</td>\n",
       "      <td>11/08/2018</td>\n",
       "      <td>7:10AM</td>\n",
       "      <td>Stephen</td>\n",
       "      <td>1</td>\n",
       "      <td>155</td>\n",
       "      <td>188</td>\n",
       "    </tr>\n",
       "    <tr>\n",
       "      <th>19</th>\n",
       "      <td>791</td>\n",
       "      <td>27</td>\n",
       "      <td>3,655</td>\n",
       "      <td>11/12/2018</td>\n",
       "      <td>7:10AM</td>\n",
       "      <td>Kevin</td>\n",
       "      <td>1</td>\n",
       "      <td>154</td>\n",
       "      <td>178</td>\n",
       "    </tr>\n",
       "    <tr>\n",
       "      <th>20</th>\n",
       "      <td>789</td>\n",
       "      <td>24</td>\n",
       "      <td>1,869</td>\n",
       "      <td>11/01/2018</td>\n",
       "      <td>7:10AM</td>\n",
       "      <td>Stephen</td>\n",
       "      <td>1</td>\n",
       "      <td>148</td>\n",
       "      <td>176</td>\n",
       "    </tr>\n",
       "    <tr>\n",
       "      <th>21</th>\n",
       "      <td>793</td>\n",
       "      <td>23</td>\n",
       "      <td>4,125</td>\n",
       "      <td>10/17/2018</td>\n",
       "      <td>7:10AM</td>\n",
       "      <td>Shelby</td>\n",
       "      <td>1</td>\n",
       "      <td>147</td>\n",
       "      <td>179</td>\n",
       "    </tr>\n",
       "    <tr>\n",
       "      <th>22</th>\n",
       "      <td>786</td>\n",
       "      <td>16</td>\n",
       "      <td>3,739</td>\n",
       "      <td>11/04/2018</td>\n",
       "      <td>10:00AM</td>\n",
       "      <td>Shelby</td>\n",
       "      <td>1</td>\n",
       "      <td>146</td>\n",
       "      <td>173</td>\n",
       "    </tr>\n",
       "    <tr>\n",
       "      <th>23</th>\n",
       "      <td>805</td>\n",
       "      <td>25</td>\n",
       "      <td>3,780</td>\n",
       "      <td>11/11/2018</td>\n",
       "      <td>10:00AM</td>\n",
       "      <td>Shelby</td>\n",
       "      <td>1</td>\n",
       "      <td>150</td>\n",
       "      <td>184</td>\n",
       "    </tr>\n",
       "    <tr>\n",
       "      <th>24</th>\n",
       "      <td>796</td>\n",
       "      <td>23</td>\n",
       "      <td>4,098</td>\n",
       "      <td>10/10/18</td>\n",
       "      <td>7:10AM</td>\n",
       "      <td>Shelby</td>\n",
       "      <td>2</td>\n",
       "      <td>148</td>\n",
       "      <td>182</td>\n",
       "    </tr>\n",
       "    <tr>\n",
       "      <th>25</th>\n",
       "      <td>920</td>\n",
       "      <td>41</td>\n",
       "      <td>4,759</td>\n",
       "      <td>09/26/18</td>\n",
       "      <td>7:10AM</td>\n",
       "      <td>Stephen</td>\n",
       "      <td>2</td>\n",
       "      <td>162</td>\n",
       "      <td>190</td>\n",
       "    </tr>\n",
       "    <tr>\n",
       "      <th>26</th>\n",
       "      <td>766</td>\n",
       "      <td>20</td>\n",
       "      <td>3,457</td>\n",
       "      <td>11/20/2018</td>\n",
       "      <td>7:10AM</td>\n",
       "      <td>Stephen</td>\n",
       "      <td>1</td>\n",
       "      <td>149</td>\n",
       "      <td>181</td>\n",
       "    </tr>\n",
       "    <tr>\n",
       "      <th>27</th>\n",
       "      <td>872</td>\n",
       "      <td>27</td>\n",
       "      <td>4,717</td>\n",
       "      <td>10/08/18</td>\n",
       "      <td>7:10AM</td>\n",
       "      <td>Kevin</td>\n",
       "      <td>2</td>\n",
       "      <td>154</td>\n",
       "      <td>179</td>\n",
       "    </tr>\n",
       "  </tbody>\n",
       "</table>\n",
       "</div>"
      ],
      "text/plain": [
       "    calories  splat_pts  steps        date     time    coach  \\\n",
       "0        786         16  3,739  11/04/2018  10:00AM   Shelby   \n",
       "1        714         16  2,682    10/05/18   7:10AM    Kevin   \n",
       "2        754         18  4,219  11/14/2018   7:10AM   Shelby   \n",
       "3        789         20  3,222  10/26/2018   7:10AM    Kevin   \n",
       "4        910         32  3,142    10/01/18   6:05AM   Shelby   \n",
       "5        756         14  3,435  11/18/2018  10:00AM  Stephen   \n",
       "6        656         21      4  10/12/2018   7:10AM    Kevin   \n",
       "7        779         20  3,561  11/16/2018   7:10AM    Kevin   \n",
       "8       1265         46  5,969    10/07/18  12:30PM     Kate   \n",
       "9        697         11  3,215  11/30/2018   7:10AM    Kevin   \n",
       "10       843         32  4,739  11/06/2018   7:10AM  Stephen   \n",
       "11       678         12  4,018  11/21/2018   7:10AM   Shelby   \n",
       "12       790         11      4  10/15/2018   6:05AM    Kevin   \n",
       "13       838         28  4,262  10/24/2018   7:10AM   Shelby   \n",
       "14       741         13      0  11/09/2018   7:10AM    Kevin   \n",
       "15       765         26  4,576  11/03/2018  12:30PM    Kevin   \n",
       "16       877         27  3,072    09/28/18   6:05AM    Kevin   \n",
       "17       903         38  2,868    10/03/18   5:30PM   Shelby   \n",
       "18       790         27  4,569  11/08/2018   7:10AM  Stephen   \n",
       "19       791         27  3,655  11/12/2018   7:10AM    Kevin   \n",
       "20       789         24  1,869  11/01/2018   7:10AM  Stephen   \n",
       "21       793         23  4,125  10/17/2018   7:10AM   Shelby   \n",
       "22       786         16  3,739  11/04/2018  10:00AM   Shelby   \n",
       "23       805         25  3,780  11/11/2018  10:00AM   Shelby   \n",
       "24       796         23  4,098    10/10/18   7:10AM   Shelby   \n",
       "25       920         41  4,759    09/26/18   7:10AM  Stephen   \n",
       "26       766         20  3,457  11/20/2018   7:10AM  Stephen   \n",
       "27       872         27  4,717    10/08/18   7:10AM    Kevin   \n",
       "\n",
       "    template_version  avg_heart_rate  peak_heart_rate  \n",
       "0                  1             146              173  \n",
       "1                  2             143              181  \n",
       "2                  1             145              173  \n",
       "3                  1             150              177  \n",
       "4                  2             159              191  \n",
       "5                  1             140              178  \n",
       "6                  1             136              180  \n",
       "7                  1             150              177  \n",
       "8                  2             155              187  \n",
       "9                  1             146              185  \n",
       "10                 1             157              182  \n",
       "11                 1             136              180  \n",
       "12                 1             144              169  \n",
       "13                 1             153              180  \n",
       "14                 1             147              176  \n",
       "15                 1             154              185  \n",
       "16                 2             151              184  \n",
       "17                 2             158              183  \n",
       "18                 1             155              188  \n",
       "19                 1             154              178  \n",
       "20                 1             148              176  \n",
       "21                 1             147              179  \n",
       "22                 1             146              173  \n",
       "23                 1             150              184  \n",
       "24                 2             148              182  \n",
       "25                 2             162              190  \n",
       "26                 1             149              181  \n",
       "27                 2             154              179  "
      ]
     },
     "execution_count": 3,
     "metadata": {},
     "output_type": "execute_result"
    }
   ],
   "source": [
    "def normalize_date(value):\n",
    "    return value.replace('.', '/')\n",
    "\n",
    "def to_int_calories(value):\n",
    "    return int(value.replace(',', '')) #some values are strings like 1,260\n",
    "\n",
    "def clean_time(value):\n",
    "    return value.replace('\\u200c:', ':').replace(' ', '')\n",
    "\n",
    "ot_df['date'] = ot_df['date'].apply(normalize_date)\n",
    "ot_df['calories'] = ot_df['calories'].apply(to_int_calories).astype(int)\n",
    "ot_df['time'] = ot_df['time'].apply(clean_time)\n",
    "\n",
    "ot_df_cpy = ot_df.copy()\n",
    "ot_df_cpy\n",
    "\n"
   ]
  },
  {
   "cell_type": "markdown",
   "metadata": {},
   "source": [
    "### Hypothesis\n",
    "\n",
    "* Less calories burned with Kevin as a coach\n",
    "* Average Heart rate decreasing the more classes I take\n",
    "* More steps = more calories burned and more splat_pts earned\n",
    "* On average I burn more calories with Stephen as a coach\n",
    "* 7:10 AM classes yield the best results\n",
    "* Less calories = less splat_pts\n"
   ]
  },
  {
   "cell_type": "markdown",
   "metadata": {},
   "source": [
    "#### 1. Do I burn less calories with Kevin as a coach?\n",
    "\n",
    "**How**: Create different DataFrame for each coach. Then calculate the average calories burnt for each dataframe. \n",
    "     I am removing **Kate** as a coach as her class was a 90 minute class vs. 60 minutes like the others\n",
    "    "
   ]
  },
  {
   "cell_type": "code",
   "execution_count": 4,
   "metadata": {},
   "outputs": [
    {
     "data": {
      "text/plain": [
       "array(['Shelby', 'Kevin', 'Stephen', 'Kate'], dtype=object)"
      ]
     },
     "execution_count": 4,
     "metadata": {},
     "output_type": "execute_result"
    }
   ],
   "source": [
    "ot_df_cpy['coach'].unique()\n"
   ]
  },
  {
   "cell_type": "code",
   "execution_count": 5,
   "metadata": {},
   "outputs": [],
   "source": [
    "df_kev = ot_df_cpy[ot_df_cpy.coach == 'Kevin']\n",
    "df_sh  = ot_df_cpy[ot_df_cpy.coach == 'Shelby']\n",
    "df_st  = ot_df_cpy[ot_df_cpy.coach == 'Stephen']\n"
   ]
  },
  {
   "cell_type": "code",
   "execution_count": 6,
   "metadata": {},
   "outputs": [
    {
     "data": {
      "text/plain": [
       "<matplotlib.axes._subplots.AxesSubplot at 0x11ae63e48>"
      ]
     },
     "execution_count": 6,
     "metadata": {},
     "output_type": "execute_result"
    },
    {
     "data": {
      "image/png": "[encoded data removed]",
      "text/plain": [
       "<Figure size 1080x720 with 1 Axes>"
      ]
     },
     "metadata": {
      "needs_background": "light"
     },
     "output_type": "display_data"
    }
   ],
   "source": [
    "  \n",
    "calorie_data = [\n",
    "    {\n",
    "        \"coach\": \"Kevin\",\n",
    "        \"calories\": df_kev['calories'].mean()\n",
    "    },\n",
    "    {\n",
    "        \"coach\": \"Shelby\",\n",
    "        \"calories\": df_sh['calories'].mean()\n",
    "    },\n",
    "    {\n",
    "        \"coach\": \"Stephen\",\n",
    "        \"calories\": df_st['calories'].mean()\n",
    "    }\n",
    "]\n",
    "\n",
    "cal_df = pd.DataFrame(calorie_data, index=['Kevin', 'Shelby', 'Stephen'])\n",
    "cal_df.plot(kind='bar', figsize=(15,10), ylim=(650))"
   ]
  },
  {
   "cell_type": "code",
   "execution_count": 7,
   "metadata": {},
   "outputs": [
    {
     "data": {
      "text/html": [
       "<div>\n",
       "<style scoped>\n",
       "    .dataframe tbody tr th:only-of-type {\n",
       "        vertical-align: middle;\n",
       "    }\n",
       "\n",
       "    .dataframe tbody tr th {\n",
       "        vertical-align: top;\n",
       "    }\n",
       "\n",
       "    .dataframe thead th {\n",
       "        text-align: right;\n",
       "    }\n",
       "</style>\n",
       "<table border=\"1\" class=\"dataframe\">\n",
       "  <thead>\n",
       "    <tr style=\"text-align: right;\">\n",
       "      <th></th>\n",
       "      <th>calories</th>\n",
       "      <th>coach</th>\n",
       "    </tr>\n",
       "  </thead>\n",
       "  <tbody>\n",
       "    <tr>\n",
       "      <th>Kevin</th>\n",
       "      <td>770.090909</td>\n",
       "      <td>Kevin</td>\n",
       "    </tr>\n",
       "    <tr>\n",
       "      <th>Shelby</th>\n",
       "      <td>804.900000</td>\n",
       "      <td>Shelby</td>\n",
       "    </tr>\n",
       "    <tr>\n",
       "      <th>Stephen</th>\n",
       "      <td>810.666667</td>\n",
       "      <td>Stephen</td>\n",
       "    </tr>\n",
       "  </tbody>\n",
       "</table>\n",
       "</div>"
      ],
      "text/plain": [
       "           calories    coach\n",
       "Kevin    770.090909    Kevin\n",
       "Shelby   804.900000   Shelby\n",
       "Stephen  810.666667  Stephen"
      ]
     },
     "execution_count": 7,
     "metadata": {},
     "output_type": "execute_result"
    }
   ],
   "source": [
    "cal_df.sort_values(ascending=True, by='calories')"
   ]
  },
  {
   "cell_type": "markdown",
   "metadata": {},
   "source": [
    "### Conclusion\n",
    "Yes, it seems that I do burn slightly less calories with Kevin as a coach"
   ]
  },
  {
   "cell_type": "markdown",
   "metadata": {},
   "source": [
    "### 2. Is my heart average heart rate decreasing the more classes I take?"
   ]
  },
  {
   "cell_type": "code",
   "execution_count": 8,
   "metadata": {},
   "outputs": [],
   "source": [
    "ot_df_cpy['date'] = pd.to_datetime(ot_df_cpy['date'])\n",
    "ot_df_cpy.sort_values(by='date', inplace=True)\n",
    "\n",
    "start = ot_df_cpy['date'].iloc[0]\n",
    "end = ot_df_cpy['date'].iloc[ot_df_cpy.shape[0]-1]\n",
    "\n",
    "drange = pytime.daysrange(start,end)"
   ]
  },
  {
   "cell_type": "markdown",
   "metadata": {},
   "source": [
    "#### Line Graph of average heart rate with increase in time spent at OT"
   ]
  },
  {
   "cell_type": "code",
   "execution_count": 9,
   "metadata": {},
   "outputs": [
    {
     "data": {
      "image/png": "[encoded data removed]",
      "text/plain": [
       "<Figure size 1440x360 with 1 Axes>"
      ]
     },
     "metadata": {
      "needs_background": "light"
     },
     "output_type": "display_data"
    }
   ],
   "source": [
    "line = ot_df_cpy.plot(x='date', y='avg_heart_rate', kind='line', figsize=(20,5))"
   ]
  },
  {
   "cell_type": "markdown",
   "metadata": {},
   "source": [
    "#### Calcuate the best fitting line"
   ]
  },
  {
   "cell_type": "code",
   "execution_count": 11,
   "metadata": {},
   "outputs": [
    {
     "data": {
      "text/plain": [
       "[<matplotlib.lines.Line2D at 0x11b6ea7b8>,\n",
       " <matplotlib.lines.Line2D at 0x11baa30b8>]"
      ]
     },
     "execution_count": 11,
     "metadata": {},
     "output_type": "execute_result"
    },
    {
     "data": {
      "image/png": "[encoded data removed]",
      "text/plain": [
       "<Figure size 432x288 with 1 Axes>"
      ]
     },
     "metadata": {
      "needs_background": "light"
     },
     "output_type": "display_data"
    }
   ],
   "source": [
    "\n",
    "y = ot_df_cpy['avg_heart_rate']\n",
    "x = range(1,29)\n",
    "\n",
    "fit = np.polyfit(x,y,1)\n",
    "\n",
    "fit_fn = np.poly1d(fit) \n",
    "plt.pyplot.plot(x,y, 'yo', x, fit_fn(x), '--k')"
   ]
  },
  {
   "cell_type": "code",
   "execution_count": 12,
   "metadata": {},
   "outputs": [
    {
     "data": {
      "text/plain": [
       "-0.3221127531472336"
      ]
     },
     "execution_count": 12,
     "metadata": {},
     "output_type": "execute_result"
    }
   ],
   "source": [
    "slope = fit[0]\n",
    "slope"
   ]
  },
  {
   "cell_type": "markdown",
   "metadata": {},
   "source": [
    "### Conclusion\n",
    "Negative slope indicates a decrease in average heart rate over time"
   ]
  },
  {
   "cell_type": "markdown",
   "metadata": {},
   "source": [
    "### 3.  7:10am classes yield the best results"
   ]
  },
  {
   "cell_type": "code",
   "execution_count": 13,
   "metadata": {},
   "outputs": [
    {
     "data": {
      "text/plain": [
       "array(['7:10AM', '6:05AM', '5:30PM', '12:30PM', '10:00AM'], dtype=object)"
      ]
     },
     "execution_count": 13,
     "metadata": {},
     "output_type": "execute_result"
    }
   ],
   "source": [
    "ot_df_cpy['time'].unique()"
   ]
  },
  {
   "cell_type": "code",
   "execution_count": 14,
   "metadata": {},
   "outputs": [],
   "source": [
    "df_7 = ot_df_cpy[ot_df_cpy.time == '7:10AM']\n",
    "df_10 = ot_df_cpy[ot_df_cpy.time == '10:00AM']\n",
    "df_6 = ot_df_cpy[ot_df_cpy.time == '6:05AM']\n",
    "df_12 = ot_df_cpy[ot_df_cpy.time == '12:30PM']\n",
    "df_17 = ot_df_cpy[ot_df_cpy.time == '5:30PM']"
   ]
  },
  {
   "cell_type": "code",
   "execution_count": null,
   "metadata": {},
   "outputs": [],
   "source": []
  },
  {
   "cell_type": "code",
   "execution_count": 15,
   "metadata": {},
   "outputs": [
    {
     "data": {
      "text/html": [
       "<div>\n",
       "<style scoped>\n",
       "    .dataframe tbody tr th:only-of-type {\n",
       "        vertical-align: middle;\n",
       "    }\n",
       "\n",
       "    .dataframe tbody tr th {\n",
       "        vertical-align: top;\n",
       "    }\n",
       "\n",
       "    .dataframe thead th {\n",
       "        text-align: right;\n",
       "    }\n",
       "</style>\n",
       "<table border=\"1\" class=\"dataframe\">\n",
       "  <thead>\n",
       "    <tr style=\"text-align: right;\">\n",
       "      <th></th>\n",
       "      <th>calories</th>\n",
       "      <th>splat</th>\n",
       "      <th>time</th>\n",
       "    </tr>\n",
       "  </thead>\n",
       "  <tbody>\n",
       "    <tr>\n",
       "      <th>7:10am</th>\n",
       "      <td>778.111111</td>\n",
       "      <td>22.388889</td>\n",
       "      <td>7:10AM</td>\n",
       "    </tr>\n",
       "    <tr>\n",
       "      <th>10:00am</th>\n",
       "      <td>783.250000</td>\n",
       "      <td>17.750000</td>\n",
       "      <td>10:00AM</td>\n",
       "    </tr>\n",
       "    <tr>\n",
       "      <th>6:05am</th>\n",
       "      <td>859.000000</td>\n",
       "      <td>23.333333</td>\n",
       "      <td>6:05AM</td>\n",
       "    </tr>\n",
       "    <tr>\n",
       "      <th>12:30pm</th>\n",
       "      <td>1015.000000</td>\n",
       "      <td>36.000000</td>\n",
       "      <td>12:30PM</td>\n",
       "    </tr>\n",
       "    <tr>\n",
       "      <th>17:30pm</th>\n",
       "      <td>903.000000</td>\n",
       "      <td>38.000000</td>\n",
       "      <td>17:30AM</td>\n",
       "    </tr>\n",
       "  </tbody>\n",
       "</table>\n",
       "</div>"
      ],
      "text/plain": [
       "            calories      splat     time\n",
       "7:10am    778.111111  22.388889   7:10AM\n",
       "10:00am   783.250000  17.750000  10:00AM\n",
       "6:05am    859.000000  23.333333   6:05AM\n",
       "12:30pm  1015.000000  36.000000  12:30PM\n",
       "17:30pm   903.000000  38.000000  17:30AM"
      ]
     },
     "execution_count": 15,
     "metadata": {},
     "output_type": "execute_result"
    }
   ],
   "source": [
    "times = [\n",
    "    {\n",
    "        \"time\": \"7:10AM\",\n",
    "        \"calories\": df_7['calories'].mean(),\n",
    "        \"splat\": df_7['splat_pts'].mean()\n",
    "    },\n",
    "    {\n",
    "        \"time\": \"10:00AM\",\n",
    "        \"calories\": df_10['calories'].mean(),\n",
    "        \"splat\": df_10['splat_pts'].mean()\n",
    "    },\n",
    "    {\n",
    "        \"time\": \"6:05AM\",\n",
    "        \"calories\": df_6['calories'].mean(),\n",
    "        \"splat\": df_6['splat_pts'].mean()\n",
    "    },\n",
    "    {\n",
    "        \"time\": \"12:30PM\",\n",
    "        \"calories\": df_12['calories'].mean(),\n",
    "        \"splat\": df_12['splat_pts'].mean()\n",
    "    },\n",
    "    {\n",
    "        \"time\": \"17:30AM\",\n",
    "        \"calories\": df_17['calories'].mean(),\n",
    "        \"splat\": df_17['splat_pts'].mean()\n",
    "    },\n",
    "]\n",
    "\n",
    "time_df = pd.DataFrame(times, index=[\"7:10am\", \"10:00am\", \"6:05am\", \"12:30pm\", \"17:30pm\"])\n",
    "time_df"
   ]
  },
  {
   "cell_type": "code",
   "execution_count": 239,
   "metadata": {},
   "outputs": [
    {
     "data": {
      "text/plain": [
       "<matplotlib.axes._subplots.AxesSubplot at 0x1a200e3550>"
      ]
     },
     "execution_count": 239,
     "metadata": {},
     "output_type": "execute_result"
    },
    {
     "data": {
      "image/png": "[encoded data removed]",
      "text/plain": [
       "<Figure size 1080x720 with 1 Axes>"
      ]
     },
     "metadata": {
      "needs_background": "light"
     },
     "output_type": "display_data"
    }
   ],
   "source": [
    "time_df.plot(kind='bar', y='calories', figsize=(15,10), ylim=700)"
   ]
  },
  {
   "cell_type": "markdown",
   "metadata": {},
   "source": [
    "Drop 12:30pm as that was a 90 minute class"
   ]
  },
  {
   "cell_type": "code",
   "execution_count": 16,
   "metadata": {},
   "outputs": [],
   "source": [
    "time_df_cleaned = time_df.drop(labels=[\"12:30pm\"])\n"
   ]
  },
  {
   "cell_type": "code",
   "execution_count": 272,
   "metadata": {},
   "outputs": [
    {
     "data": {
      "text/plain": [
       "<matplotlib.axes._subplots.AxesSubplot at 0x11cd25390>"
      ]
     },
     "execution_count": 272,
     "metadata": {},
     "output_type": "execute_result"
    },
    {
     "data": {
      "image/png": "[encoded data removed]",
      "text/plain": [
       "<Figure size 1080x720 with 1 Axes>"
      ]
     },
     "metadata": {
      "needs_background": "light"
     },
     "output_type": "display_data"
    }
   ],
   "source": [
    "time_df_cleaned.plot(kind='bar', y='calories', figsize=(15,10), ylim=700)"
   ]
  },
  {
   "cell_type": "markdown",
   "metadata": {},
   "source": [
    "#### Conclusion\n",
    "Looks like I burn more calories at 17:30 rather than 7:10.\n",
    "Do splat points align with this?"
   ]
  },
  {
   "cell_type": "code",
   "execution_count": 17,
   "metadata": {},
   "outputs": [
    {
     "data": {
      "text/plain": [
       "<matplotlib.axes._subplots.AxesSubplot at 0x11bad2f98>"
      ]
     },
     "execution_count": 17,
     "metadata": {},
     "output_type": "execute_result"
    },
    {
     "data": {
      "image/png": "[encoded data removed]",
      "text/plain": [
       "<Figure size 1080x720 with 1 Axes>"
      ]
     },
     "metadata": {
      "needs_background": "light"
     },
     "output_type": "display_data"
    }
   ],
   "source": [
    "time_df_cleaned.plot(kind='bar', y='splat', figsize=(15,10))"
   ]
  },
  {
   "cell_type": "markdown",
   "metadata": {},
   "source": [
    "#### Conclusion\n",
    "It does look like I also gain more splat points at 17:30 than 7:10. However that does not necessarily mean there is a positive correlation between calories burnt and splat points earned. \n",
    "As you can see I gain slightly more splat points at 7:10 than 6:05 eventhough I burn more calories at 6:05"
   ]
  },
  {
   "cell_type": "code",
   "execution_count": null,
   "metadata": {},
   "outputs": [],
   "source": []
  }
 ],
 "metadata": {
  "kernelspec": {
   "display_name": "Python 3",
   "language": "python",
   "name": "python3"
  },
  "language_info": {
   "codemirror_mode": {
    "name": "ipython",
    "version": 3
   },
   "file_extension": ".py",
   "mimetype": "text/x-python",
   "name": "python",
   "nbconvert_exporter": "python",
   "pygments_lexer": "ipython3",
   "version": "3.7.0"
  }
 },
 "nbformat": 4,
 "nbformat_minor": 2
}
