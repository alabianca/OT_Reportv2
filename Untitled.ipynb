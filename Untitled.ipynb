{
 "cells": [
  {
   "cell_type": "code",
   "execution_count": 89,
   "metadata": {},
   "outputs": [],
   "source": [
    "import pandas as pd\n",
    "import numpy as np\n",
    "import matplotlib as plt\n",
    "from pytime import pytime\n",
    "\n",
    "%matplotlib inline"
   ]
  },
  {
   "cell_type": "code",
   "execution_count": 215,
   "metadata": {},
   "outputs": [],
   "source": [
    "\n",
    "ot_df = pd.read_csv('./events.csv')\n",
    "ot_df_cpy = ot_df.copy()\n",
    "\n"
   ]
  },
  {
   "cell_type": "markdown",
   "metadata": {},
   "source": [
    "# Clean Data\n",
    "\n",
    "Get the date column in a common format between different template versions"
   ]
  },
  {
   "cell_type": "code",
   "execution_count": 216,
   "metadata": {},
   "outputs": [
    {
     "data": {
      "text/html": [
       "<div>\n",
       "<style scoped>\n",
       "    .dataframe tbody tr th:only-of-type {\n",
       "        vertical-align: middle;\n",
       "    }\n",
       "\n",
       "    .dataframe tbody tr th {\n",
       "        vertical-align: top;\n",
       "    }\n",
       "\n",
       "    .dataframe thead th {\n",
       "        text-align: right;\n",
       "    }\n",
       "</style>\n",
       "<table border=\"1\" class=\"dataframe\">\n",
       "  <thead>\n",
       "    <tr style=\"text-align: right;\">\n",
       "      <th></th>\n",
       "      <th>calories</th>\n",
       "      <th>splat_pts</th>\n",
       "      <th>steps</th>\n",
       "      <th>date</th>\n",
       "      <th>time</th>\n",
       "      <th>coach</th>\n",
       "      <th>template_version</th>\n",
       "      <th>avg_heart_rate</th>\n",
       "      <th>peak_heart_rate</th>\n",
       "    </tr>\n",
       "  </thead>\n",
       "  <tbody>\n",
       "    <tr>\n",
       "      <th>0</th>\n",
       "      <td>786</td>\n",
       "      <td>16</td>\n",
       "      <td>3,739</td>\n",
       "      <td>11/04/2018</td>\n",
       "      <td>10:00AM</td>\n",
       "      <td>Shelby</td>\n",
       "      <td>1</td>\n",
       "      <td>146</td>\n",
       "      <td>173</td>\n",
       "    </tr>\n",
       "    <tr>\n",
       "      <th>1</th>\n",
       "      <td>714</td>\n",
       "      <td>16</td>\n",
       "      <td>2,682</td>\n",
       "      <td>10/05/18</td>\n",
       "      <td>7:10AM</td>\n",
       "      <td>Kevin</td>\n",
       "      <td>2</td>\n",
       "      <td>143</td>\n",
       "      <td>181</td>\n",
       "    </tr>\n",
       "    <tr>\n",
       "      <th>2</th>\n",
       "      <td>754</td>\n",
       "      <td>18</td>\n",
       "      <td>4,219</td>\n",
       "      <td>11/14/2018</td>\n",
       "      <td>7:10AM</td>\n",
       "      <td>Shelby</td>\n",
       "      <td>1</td>\n",
       "      <td>145</td>\n",
       "      <td>173</td>\n",
       "    </tr>\n",
       "    <tr>\n",
       "      <th>3</th>\n",
       "      <td>789</td>\n",
       "      <td>20</td>\n",
       "      <td>3,222</td>\n",
       "      <td>10/26/2018</td>\n",
       "      <td>7:10AM</td>\n",
       "      <td>Kevin</td>\n",
       "      <td>1</td>\n",
       "      <td>150</td>\n",
       "      <td>177</td>\n",
       "    </tr>\n",
       "    <tr>\n",
       "      <th>4</th>\n",
       "      <td>910</td>\n",
       "      <td>32</td>\n",
       "      <td>3,142</td>\n",
       "      <td>10/01/18</td>\n",
       "      <td>6:05AM</td>\n",
       "      <td>Shelby</td>\n",
       "      <td>2</td>\n",
       "      <td>159</td>\n",
       "      <td>191</td>\n",
       "    </tr>\n",
       "  </tbody>\n",
       "</table>\n",
       "</div>"
      ],
      "text/plain": [
       "   calories  splat_pts  steps        date     time   coach  template_version  \\\n",
       "0       786         16  3,739  11/04/2018  10:00AM  Shelby                 1   \n",
       "1       714         16  2,682    10/05/18   7:10AM   Kevin                 2   \n",
       "2       754         18  4,219  11/14/2018   7:10AM  Shelby                 1   \n",
       "3       789         20  3,222  10/26/2018   7:10AM   Kevin                 1   \n",
       "4       910         32  3,142    10/01/18   6:05AM  Shelby                 2   \n",
       "\n",
       "   avg_heart_rate  peak_heart_rate  \n",
       "0             146              173  \n",
       "1             143              181  \n",
       "2             145              173  \n",
       "3             150              177  \n",
       "4             159              191  "
      ]
     },
     "execution_count": 216,
     "metadata": {},
     "output_type": "execute_result"
    }
   ],
   "source": [
    "def normalize_date(value):\n",
    "    return value.replace('.', '/')\n",
    "\n",
    "def to_int_calories(value):\n",
    "    return int(value.replace(',', '')) #some values are strings like 1,260\n",
    "\n",
    "def clean_time(value):\n",
    "    return value.replace('\\u200c:', ':').replace(' ', '')\n",
    "\n",
    "ot_df['date'] = ot_df['date'].apply(normalize_date)\n",
    "ot_df['calories'] = ot_df['calories'].apply(to_int_calories).astype(int)\n",
    "ot_df['time'] = ot_df['time'].apply(clean_time)\n",
    "\n",
    "ot_df_cpy = ot_df.copy()\n",
    "ot_df_cpy.head()\n",
    "\n"
   ]
  },
  {
   "cell_type": "markdown",
   "metadata": {},
   "source": [
    "### Hypothesis\n",
    "\n",
    "* Less calories burned with Kevin as a coach\n",
    "* Average Heart rate decreasing the more classes I take\n",
    "* More steps = more calories burned and more splat_pts earned\n",
    "* On average I burn more calories with Stephen as a coach\n",
    "* 7:10 AM classes yield the best results\n",
    "* Less calories = less splat_pts\n"
   ]
  },
  {
   "cell_type": "markdown",
   "metadata": {},
   "source": [
    "#### 1. Do I burn less calories with Kevin as a coach?\n",
    "\n",
    "**How**: Create different DataFrame for each coach. Then calculate the average calories burnt for each dataframe. \n",
    "     I am removing **Kate** as a coach as her class was a 90 minute class vs. 60 minutes like the others\n",
    "    "
   ]
  },
  {
   "cell_type": "code",
   "execution_count": 53,
   "metadata": {},
   "outputs": [
    {
     "data": {
      "text/plain": [
       "array(['Shelby', 'Kevin', 'Stephen', 'Kate'], dtype=object)"
      ]
     },
     "execution_count": 53,
     "metadata": {},
     "output_type": "execute_result"
    }
   ],
   "source": [
    "ot_df_cpy['coach'].unique()\n"
   ]
  },
  {
   "cell_type": "code",
   "execution_count": 54,
   "metadata": {},
   "outputs": [],
   "source": [
    "df_kev = ot_df_cpy[ot_df_cpy.coach == 'Kevin']\n",
    "df_sh  = ot_df_cpy[ot_df_cpy.coach == 'Shelby']\n",
    "df_st  = ot_df_cpy[ot_df_cpy.coach == 'Stephen']\n"
   ]
  },
  {
   "cell_type": "code",
   "execution_count": 55,
   "metadata": {},
   "outputs": [
    {
     "data": {
      "text/plain": [
       "<matplotlib.axes._subplots.AxesSubplot at 0x11bfb5e48>"
      ]
     },
     "execution_count": 55,
     "metadata": {},
     "output_type": "execute_result"
    },
    {
     "data": {
      "image/png": "[encoded data removed]",
      "text/plain": [
       "<Figure size 1080x720 with 1 Axes>"
      ]
     },
     "metadata": {
      "needs_background": "light"
     },
     "output_type": "display_data"
    }
   ],
   "source": [
    "  \n",
    "calorie_data = [\n",
    "    {\n",
    "        \"coach\": \"Kevin\",\n",
    "        \"calories\": df_kev['calories'].mean()\n",
    "    },\n",
    "    {\n",
    "        \"coach\": \"Shelby\",\n",
    "        \"calories\": df_sh['calories'].mean()\n",
    "    },\n",
    "    {\n",
    "        \"coach\": \"Stephen\",\n",
    "        \"calories\": df_st['calories'].mean()\n",
    "    }\n",
    "]\n",
    "\n",
    "cal_df = pd.DataFrame(calorie_data, index=['Kevin', 'Shelby', 'Stephen'])\n",
    "cal_df.plot(kind='bar', figsize=(15,10), ylim=(650))"
   ]
  },
  {
   "cell_type": "code",
   "execution_count": 117,
   "metadata": {},
   "outputs": [
    {
     "data": {
      "text/html": [
       "<div>\n",
       "<style scoped>\n",
       "    .dataframe tbody tr th:only-of-type {\n",
       "        vertical-align: middle;\n",
       "    }\n",
       "\n",
       "    .dataframe tbody tr th {\n",
       "        vertical-align: top;\n",
       "    }\n",
       "\n",
       "    .dataframe thead th {\n",
       "        text-align: right;\n",
       "    }\n",
       "</style>\n",
       "<table border=\"1\" class=\"dataframe\">\n",
       "  <thead>\n",
       "    <tr style=\"text-align: right;\">\n",
       "      <th></th>\n",
       "      <th>calories</th>\n",
       "      <th>coach</th>\n",
       "    </tr>\n",
       "  </thead>\n",
       "  <tbody>\n",
       "    <tr>\n",
       "      <th>Kevin</th>\n",
       "      <td>777.400000</td>\n",
       "      <td>Kevin</td>\n",
       "    </tr>\n",
       "    <tr>\n",
       "      <th>Stephen</th>\n",
       "      <td>810.666667</td>\n",
       "      <td>Stephen</td>\n",
       "    </tr>\n",
       "    <tr>\n",
       "      <th>Shelby</th>\n",
       "      <td>819.000000</td>\n",
       "      <td>Shelby</td>\n",
       "    </tr>\n",
       "  </tbody>\n",
       "</table>\n",
       "</div>"
      ],
      "text/plain": [
       "           calories    coach\n",
       "Kevin    777.400000    Kevin\n",
       "Stephen  810.666667  Stephen\n",
       "Shelby   819.000000   Shelby"
      ]
     },
     "execution_count": 117,
     "metadata": {},
     "output_type": "execute_result"
    }
   ],
   "source": [
    "cal_df.sort_values(ascending=True, by='calories')"
   ]
  },
  {
   "cell_type": "markdown",
   "metadata": {},
   "source": [
    "### Conclusion\n",
    "Yes, it seems that I do burn slightly less calories with Kevin as a coach"
   ]
  },
  {
   "cell_type": "markdown",
   "metadata": {},
   "source": [
    "### 2. Is my heart average heart rate decreasing the more classes I take?"
   ]
  },
  {
   "cell_type": "code",
   "execution_count": 153,
   "metadata": {},
   "outputs": [],
   "source": [
    "ot_df_cpy['date'] = pd.to_datetime(ot_df_cpy['date'])\n",
    "ot_df_cpy.sort_values(by='date', inplace=True)\n",
    "\n",
    "start = ot_df_cpy['date'].iloc[0]\n",
    "end = ot_df_cpy['date'].iloc[ot_df_cpy.shape[0]-1]\n",
    "\n",
    "drange = pytime.daysrange(start,end)"
   ]
  },
  {
   "cell_type": "markdown",
   "metadata": {},
   "source": [
    "#### Line Graph of average heart rate with increase in time spent at OT"
   ]
  },
  {
   "cell_type": "code",
   "execution_count": 154,
   "metadata": {},
   "outputs": [
    {
     "data": {
      "image/png": "[encoded data removed]",
      "text/plain": [
       "<Figure size 1440x360 with 1 Axes>"
      ]
     },
     "metadata": {
      "needs_background": "light"
     },
     "output_type": "display_data"
    }
   ],
   "source": [
    "line = ot_df_cpy.plot(x='date', y='avg_heart_rate', kind='line', figsize=(20,5))"
   ]
  },
  {
   "cell_type": "markdown",
   "metadata": {},
   "source": [
    "#### Calcuate the best fitting line"
   ]
  },
  {
   "cell_type": "code",
   "execution_count": 145,
   "metadata": {},
   "outputs": [
    {
     "data": {
      "text/plain": [
       "[<matplotlib.lines.Line2D at 0x1a1f574208>,\n",
       " <matplotlib.lines.Line2D at 0x1a1f574eb8>]"
      ]
     },
     "execution_count": 145,
     "metadata": {},
     "output_type": "execute_result"
    },
    {
     "data": {
      "image/png": "[encoded data removed]",
      "text/plain": [
       "<Figure size 432x288 with 1 Axes>"
      ]
     },
     "metadata": {
      "needs_background": "light"
     },
     "output_type": "display_data"
    }
   ],
   "source": [
    "\n",
    "y = ot_df_cpy['avg_heart_rate']\n",
    "x = range(1,27)\n",
    "\n",
    "fit = np.polyfit(x,y,1)\n",
    "\n",
    "fit_fn = np.poly1d(fit) \n",
    "plt.pyplot.plot(x,y, 'yo', x, fit_fn(x), '--k')"
   ]
  },
  {
   "cell_type": "code",
   "execution_count": 152,
   "metadata": {},
   "outputs": [
    {
     "data": {
      "text/plain": [
       "-0.24512820512820527"
      ]
     },
     "execution_count": 152,
     "metadata": {},
     "output_type": "execute_result"
    }
   ],
   "source": [
    "slope = fit[0]\n",
    "slope"
   ]
  },
  {
   "cell_type": "markdown",
   "metadata": {},
   "source": [
    "### Conclusion\n",
    "Negative slope indicates a decrease in average heart rate over time"
   ]
  },
  {
   "cell_type": "markdown",
   "metadata": {},
   "source": [
    "### 3.  7:10am classes yield the best results"
   ]
  },
  {
   "cell_type": "code",
   "execution_count": 217,
   "metadata": {},
   "outputs": [
    {
     "data": {
      "text/plain": [
       "array(['10:00AM', '7:10AM', '6:05AM', '12:30PM', '5:30PM'], dtype=object)"
      ]
     },
     "execution_count": 217,
     "metadata": {},
     "output_type": "execute_result"
    }
   ],
   "source": [
    "ot_df_cpy['time'].unique()"
   ]
  },
  {
   "cell_type": "code",
   "execution_count": 218,
   "metadata": {},
   "outputs": [],
   "source": [
    "df_7 = ot_df_cpy[ot_df_cpy.time == '7:10AM']\n",
    "df_10 = ot_df_cpy[ot_df_cpy.time == '10:00AM']\n",
    "df_6 = ot_df_cpy[ot_df_cpy.time == '6:05AM']\n",
    "df_12 = ot_df_cpy[ot_df_cpy.time == '12:30PM']\n",
    "df_17 = ot_df_cpy[ot_df_cpy.time == '5:30PM']"
   ]
  },
  {
   "cell_type": "code",
   "execution_count": null,
   "metadata": {},
   "outputs": [],
   "source": []
  },
  {
   "cell_type": "code",
   "execution_count": 238,
   "metadata": {},
   "outputs": [
    {
     "data": {
      "text/html": [
       "<div>\n",
       "<style scoped>\n",
       "    .dataframe tbody tr th:only-of-type {\n",
       "        vertical-align: middle;\n",
       "    }\n",
       "\n",
       "    .dataframe tbody tr th {\n",
       "        vertical-align: top;\n",
       "    }\n",
       "\n",
       "    .dataframe thead th {\n",
       "        text-align: right;\n",
       "    }\n",
       "</style>\n",
       "<table border=\"1\" class=\"dataframe\">\n",
       "  <thead>\n",
       "    <tr style=\"text-align: right;\">\n",
       "      <th></th>\n",
       "      <th>calories</th>\n",
       "      <th>splat</th>\n",
       "      <th>time</th>\n",
       "    </tr>\n",
       "  </thead>\n",
       "  <tbody>\n",
       "    <tr>\n",
       "      <th>7:10am</th>\n",
       "      <td>789.4375</td>\n",
       "      <td>23.750000</td>\n",
       "      <td>7:10AM</td>\n",
       "    </tr>\n",
       "    <tr>\n",
       "      <th>10:00am</th>\n",
       "      <td>783.2500</td>\n",
       "      <td>17.750000</td>\n",
       "      <td>10:00AM</td>\n",
       "    </tr>\n",
       "    <tr>\n",
       "      <th>6:05am</th>\n",
       "      <td>859.0000</td>\n",
       "      <td>23.333333</td>\n",
       "      <td>6:05AM</td>\n",
       "    </tr>\n",
       "    <tr>\n",
       "      <th>12:30pm</th>\n",
       "      <td>1015.0000</td>\n",
       "      <td>36.000000</td>\n",
       "      <td>12:30PM</td>\n",
       "    </tr>\n",
       "    <tr>\n",
       "      <th>17:30am</th>\n",
       "      <td>903.0000</td>\n",
       "      <td>38.000000</td>\n",
       "      <td>17:30AM</td>\n",
       "    </tr>\n",
       "  </tbody>\n",
       "</table>\n",
       "</div>"
      ],
      "text/plain": [
       "          calories      splat     time\n",
       "7:10am    789.4375  23.750000   7:10AM\n",
       "10:00am   783.2500  17.750000  10:00AM\n",
       "6:05am    859.0000  23.333333   6:05AM\n",
       "12:30pm  1015.0000  36.000000  12:30PM\n",
       "17:30am   903.0000  38.000000  17:30AM"
      ]
     },
     "execution_count": 238,
     "metadata": {},
     "output_type": "execute_result"
    }
   ],
   "source": [
    "times = [\n",
    "    {\n",
    "        \"time\": \"7:10AM\",\n",
    "        \"calories\": df_7['calories'].mean(),\n",
    "        \"splat\": df_7['splat_pts'].mean()\n",
    "    },\n",
    "    {\n",
    "        \"time\": \"10:00AM\",\n",
    "        \"calories\": df_10['calories'].mean(),\n",
    "        \"splat\": df_10['splat_pts'].mean()\n",
    "    },\n",
    "    {\n",
    "        \"time\": \"6:05AM\",\n",
    "        \"calories\": df_6['calories'].mean(),\n",
    "        \"splat\": df_6['splat_pts'].mean()\n",
    "    },\n",
    "    {\n",
    "        \"time\": \"12:30PM\",\n",
    "        \"calories\": df_12['calories'].mean(),\n",
    "        \"splat\": df_12['splat_pts'].mean()\n",
    "    },\n",
    "    {\n",
    "        \"time\": \"17:30AM\",\n",
    "        \"calories\": df_17['calories'].mean(),\n",
    "        \"splat\": df_17['splat_pts'].mean()\n",
    "    },\n",
    "]\n",
    "\n",
    "time_df = pd.DataFrame(times, index=[\"7:10am\", \"10:00am\", \"6:05am\", \"12:30pm\", \"17:30am\"])\n",
    "time_df"
   ]
  },
  {
   "cell_type": "code",
   "execution_count": 239,
   "metadata": {},
   "outputs": [
    {
     "data": {
      "text/plain": [
       "<matplotlib.axes._subplots.AxesSubplot at 0x1a200e3550>"
      ]
     },
     "execution_count": 239,
     "metadata": {},
     "output_type": "execute_result"
    },
    {
     "data": {
      "image/png": "[encoded data removed]",
      "text/plain": [
       "<Figure size 1080x720 with 1 Axes>"
      ]
     },
     "metadata": {
      "needs_background": "light"
     },
     "output_type": "display_data"
    }
   ],
   "source": [
    "time_df.plot(kind='bar', y='calories', figsize=(15,10), ylim=700)"
   ]
  },
  {
   "cell_type": "markdown",
   "metadata": {},
   "source": [
    "Drop 12:30pm as that was a 90 minute class"
   ]
  },
  {
   "cell_type": "code",
   "execution_count": 254,
   "metadata": {},
   "outputs": [],
   "source": [
    "time_df_cleaned = time_df.drop(labels=[\"12:30pm\"])\n"
   ]
  },
  {
   "cell_type": "code",
   "execution_count": 255,
   "metadata": {},
   "outputs": [
    {
     "data": {
      "text/plain": [
       "<matplotlib.axes._subplots.AxesSubplot at 0x1a20202828>"
      ]
     },
     "execution_count": 255,
     "metadata": {},
     "output_type": "execute_result"
    },
    {
     "data": {
      "image/png": "[encoded data removed]",
      "text/plain": [
       "<Figure size 1080x720 with 1 Axes>"
      ]
     },
     "metadata": {
      "needs_background": "light"
     },
     "output_type": "display_data"
    }
   ],
   "source": [
    "time_df_cleaned.plot(kind='bar', y='calories', figsize=(15,10), ylim=700)"
   ]
  },
  {
   "cell_type": "markdown",
   "metadata": {},
   "source": [
    "#### Conclusion\n",
    "Looks like I burn more calories at 17:30 rather than 7:10.\n",
    "Do splat points align with this?"
   ]
  },
  {
   "cell_type": "code",
   "execution_count": 256,
   "metadata": {},
   "outputs": [
    {
     "data": {
      "text/plain": [
       "<matplotlib.axes._subplots.AxesSubplot at 0x1a20278978>"
      ]
     },
     "execution_count": 256,
     "metadata": {},
     "output_type": "execute_result"
    },
    {
     "data": {
      "image/png": "[encoded data removed]",
      "text/plain": [
       "<Figure size 1080x720 with 1 Axes>"
      ]
     },
     "metadata": {
      "needs_background": "light"
     },
     "output_type": "display_data"
    }
   ],
   "source": [
    "time_df_cleaned.plot(kind='bar', y='splat', figsize=(15,10))"
   ]
  },
  {
   "cell_type": "markdown",
   "metadata": {},
   "source": [
    "#### Conclusion\n",
    "It does look like I also gain more splat points at 17:30 than 7:10. However that does not necessarily mean there is a positive correlation between calories burnt and splat points earned. \n",
    "As you can see I gain slightly more splat points at 7:10 than 6:05 eventhough I burn more calories at 6:05"
   ]
  },
  {
   "cell_type": "code",
   "execution_count": null,
   "metadata": {},
   "outputs": [],
   "source": []
  }
 ],
 "metadata": {
  "kernelspec": {
   "display_name": "Python 3",
   "language": "python",
   "name": "python3"
  },
  "language_info": {
   "codemirror_mode": {
    "name": "ipython",
    "version": 3
   },
   "file_extension": ".py",
   "mimetype": "text/x-python",
   "name": "python",
   "nbconvert_exporter": "python",
   "pygments_lexer": "ipython3",
   "version": "3.7.0"
  }
 },
 "nbformat": 4,
 "nbformat_minor": 2
}
