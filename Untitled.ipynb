{
 "cells": [
  {
   "cell_type": "code",
   "execution_count": 1,
   "metadata": {},
   "outputs": [],
   "source": [
    "import pandas as pd\n",
    "import numpy as np\n",
    "import matplotlib as plt\n",
    "from pytime import pytime\n",
    "\n",
    "%matplotlib inline"
   ]
  },
  {
   "cell_type": "code",
   "execution_count": 2,
   "metadata": {},
   "outputs": [],
   "source": [
    "\n",
    "ot_df = pd.read_csv('./events.csv')\n",
    "ot_df_cpy = ot_df.copy()\n",
    "\n"
   ]
  },
  {
   "cell_type": "markdown",
   "metadata": {},
   "source": [
    "# Clean Data\n",
    "\n",
    "Get the date column in a common format between different template versions"
   ]
  },
  {
   "cell_type": "code",
   "execution_count": 18,
   "metadata": {},
   "outputs": [
    {
     "ename": "AttributeError",
     "evalue": "'int' object has no attribute 'replace'",
     "output_type": "error",
     "traceback": [
      "\u001b[0;31m---------------------------------------------------------------------------\u001b[0m",
      "\u001b[0;31mAttributeError\u001b[0m                            Traceback (most recent call last)",
      "\u001b[0;32m<ipython-input-18-7e6e47cec676>\u001b[0m in \u001b[0;36m<module>\u001b[0;34m()\u001b[0m\n\u001b[1;32m      9\u001b[0m \u001b[0;34m\u001b[0m\u001b[0m\n\u001b[1;32m     10\u001b[0m \u001b[0mot_df\u001b[0m\u001b[0;34m[\u001b[0m\u001b[0;34m'date'\u001b[0m\u001b[0;34m]\u001b[0m \u001b[0;34m=\u001b[0m \u001b[0mot_df\u001b[0m\u001b[0;34m[\u001b[0m\u001b[0;34m'date'\u001b[0m\u001b[0;34m]\u001b[0m\u001b[0;34m.\u001b[0m\u001b[0mapply\u001b[0m\u001b[0;34m(\u001b[0m\u001b[0mnormalize_date\u001b[0m\u001b[0;34m)\u001b[0m\u001b[0;34m\u001b[0m\u001b[0m\n\u001b[0;32m---> 11\u001b[0;31m \u001b[0mot_df\u001b[0m\u001b[0;34m[\u001b[0m\u001b[0;34m'calories'\u001b[0m\u001b[0;34m]\u001b[0m \u001b[0;34m=\u001b[0m \u001b[0mot_df\u001b[0m\u001b[0;34m[\u001b[0m\u001b[0;34m'calories'\u001b[0m\u001b[0;34m]\u001b[0m\u001b[0;34m.\u001b[0m\u001b[0mapply\u001b[0m\u001b[0;34m(\u001b[0m\u001b[0mto_int_calories\u001b[0m\u001b[0;34m)\u001b[0m\u001b[0;34m.\u001b[0m\u001b[0mastype\u001b[0m\u001b[0;34m(\u001b[0m\u001b[0mint\u001b[0m\u001b[0;34m)\u001b[0m\u001b[0;34m\u001b[0m\u001b[0m\n\u001b[0m\u001b[1;32m     12\u001b[0m \u001b[0mot_df\u001b[0m\u001b[0;34m[\u001b[0m\u001b[0;34m'time'\u001b[0m\u001b[0;34m]\u001b[0m \u001b[0;34m=\u001b[0m \u001b[0mot_df\u001b[0m\u001b[0;34m[\u001b[0m\u001b[0;34m'time'\u001b[0m\u001b[0;34m]\u001b[0m\u001b[0;34m.\u001b[0m\u001b[0mapply\u001b[0m\u001b[0;34m(\u001b[0m\u001b[0mclean_time\u001b[0m\u001b[0;34m)\u001b[0m\u001b[0;34m\u001b[0m\u001b[0m\n\u001b[1;32m     13\u001b[0m \u001b[0;34m\u001b[0m\u001b[0m\n",
      "\u001b[0;32m/anaconda3/lib/python3.7/site-packages/pandas/core/series.py\u001b[0m in \u001b[0;36mapply\u001b[0;34m(self, func, convert_dtype, args, **kwds)\u001b[0m\n\u001b[1;32m   3192\u001b[0m             \u001b[0;32melse\u001b[0m\u001b[0;34m:\u001b[0m\u001b[0;34m\u001b[0m\u001b[0m\n\u001b[1;32m   3193\u001b[0m                 \u001b[0mvalues\u001b[0m \u001b[0;34m=\u001b[0m \u001b[0mself\u001b[0m\u001b[0;34m.\u001b[0m\u001b[0mastype\u001b[0m\u001b[0;34m(\u001b[0m\u001b[0mobject\u001b[0m\u001b[0;34m)\u001b[0m\u001b[0;34m.\u001b[0m\u001b[0mvalues\u001b[0m\u001b[0;34m\u001b[0m\u001b[0m\n\u001b[0;32m-> 3194\u001b[0;31m                 \u001b[0mmapped\u001b[0m \u001b[0;34m=\u001b[0m \u001b[0mlib\u001b[0m\u001b[0;34m.\u001b[0m\u001b[0mmap_infer\u001b[0m\u001b[0;34m(\u001b[0m\u001b[0mvalues\u001b[0m\u001b[0;34m,\u001b[0m \u001b[0mf\u001b[0m\u001b[0;34m,\u001b[0m \u001b[0mconvert\u001b[0m\u001b[0;34m=\u001b[0m\u001b[0mconvert_dtype\u001b[0m\u001b[0;34m)\u001b[0m\u001b[0;34m\u001b[0m\u001b[0m\n\u001b[0m\u001b[1;32m   3195\u001b[0m \u001b[0;34m\u001b[0m\u001b[0m\n\u001b[1;32m   3196\u001b[0m         \u001b[0;32mif\u001b[0m \u001b[0mlen\u001b[0m\u001b[0;34m(\u001b[0m\u001b[0mmapped\u001b[0m\u001b[0;34m)\u001b[0m \u001b[0;32mand\u001b[0m \u001b[0misinstance\u001b[0m\u001b[0;34m(\u001b[0m\u001b[0mmapped\u001b[0m\u001b[0;34m[\u001b[0m\u001b[0;36m0\u001b[0m\u001b[0;34m]\u001b[0m\u001b[0;34m,\u001b[0m \u001b[0mSeries\u001b[0m\u001b[0;34m)\u001b[0m\u001b[0;34m:\u001b[0m\u001b[0;34m\u001b[0m\u001b[0m\n",
      "\u001b[0;32mpandas/_libs/src/inference.pyx\u001b[0m in \u001b[0;36mpandas._libs.lib.map_infer\u001b[0;34m()\u001b[0m\n",
      "\u001b[0;32m<ipython-input-18-7e6e47cec676>\u001b[0m in \u001b[0;36mto_int_calories\u001b[0;34m(value)\u001b[0m\n\u001b[1;32m      3\u001b[0m \u001b[0;34m\u001b[0m\u001b[0m\n\u001b[1;32m      4\u001b[0m \u001b[0;32mdef\u001b[0m \u001b[0mto_int_calories\u001b[0m\u001b[0;34m(\u001b[0m\u001b[0mvalue\u001b[0m\u001b[0;34m)\u001b[0m\u001b[0;34m:\u001b[0m\u001b[0;34m\u001b[0m\u001b[0m\n\u001b[0;32m----> 5\u001b[0;31m     \u001b[0;32mreturn\u001b[0m \u001b[0mint\u001b[0m\u001b[0;34m(\u001b[0m\u001b[0mvalue\u001b[0m\u001b[0;34m.\u001b[0m\u001b[0mreplace\u001b[0m\u001b[0;34m(\u001b[0m\u001b[0;34m','\u001b[0m\u001b[0;34m,\u001b[0m \u001b[0;34m''\u001b[0m\u001b[0;34m)\u001b[0m\u001b[0;34m)\u001b[0m \u001b[0;31m#some values are strings like 1,260\u001b[0m\u001b[0;34m\u001b[0m\u001b[0m\n\u001b[0m\u001b[1;32m      6\u001b[0m \u001b[0;34m\u001b[0m\u001b[0m\n\u001b[1;32m      7\u001b[0m \u001b[0;32mdef\u001b[0m \u001b[0mclean_time\u001b[0m\u001b[0;34m(\u001b[0m\u001b[0mvalue\u001b[0m\u001b[0;34m)\u001b[0m\u001b[0;34m:\u001b[0m\u001b[0;34m\u001b[0m\u001b[0m\n",
      "\u001b[0;31mAttributeError\u001b[0m: 'int' object has no attribute 'replace'"
     ]
    }
   ],
   "source": [
    "def normalize_date(value):\n",
    "    return value.replace('.', '/')\n",
    "\n",
    "def to_int_calories(value):\n",
    "    return int(value.replace(',', '')) #some values are strings like 1,260\n",
    "\n",
    "def clean_time(value):\n",
    "    return value.replace('\\u200c:', ':').replace(' ', '')\n",
    "\n",
    "ot_df['date'] = ot_df['date'].apply(normalize_date)\n",
    "ot_df['calories'] = ot_df['calories'].apply(to_int_calories).astype(int)\n",
    "ot_df['time'] = ot_df['time'].apply(clean_time)\n",
    "\n",
    "ot_df_cpy = ot_df.copy()\n",
    "ot_df_cpy\n",
    "\n"
   ]
  },
  {
   "cell_type": "markdown",
   "metadata": {},
   "source": [
    "### Hypothesis\n",
    "\n",
    "* Less calories burned with Kevin as a coach\n",
    "* Average Heart rate decreasing the more classes I take\n",
    "* More steps = more calories burned and more splat_pts earned\n",
    "* On average I burn more calories with Stephen as a coach\n",
    "* 7:10 AM classes yield the best results\n",
    "* Less calories = less splat_pts\n"
   ]
  },
  {
   "cell_type": "markdown",
   "metadata": {},
   "source": [
    "#### 1. Do I burn less calories with Kevin as a coach?\n",
    "\n",
    "**How**: Create different DataFrame for each coach. Then calculate the average calories burnt for each dataframe. \n",
    "     I am removing **Kate** as a coach as her class was a 90 minute class vs. 60 minutes like the others\n",
    "    "
   ]
  },
  {
   "cell_type": "code",
   "execution_count": 4,
   "metadata": {},
   "outputs": [
    {
     "data": {
      "text/plain": [
       "array(['Shelby', 'Kevin', 'Stephen', 'Kate'], dtype=object)"
      ]
     },
     "execution_count": 4,
     "metadata": {},
     "output_type": "execute_result"
    }
   ],
   "source": [
    "ot_df_cpy['coach'].unique()\n"
   ]
  },
  {
   "cell_type": "code",
   "execution_count": 5,
   "metadata": {},
   "outputs": [],
   "source": [
    "df_kev = ot_df_cpy[ot_df_cpy.coach == 'Kevin']\n",
    "df_sh  = ot_df_cpy[ot_df_cpy.coach == 'Shelby']\n",
    "df_st  = ot_df_cpy[ot_df_cpy.coach == 'Stephen']\n"
   ]
  },
  {
   "cell_type": "code",
   "execution_count": 6,
   "metadata": {},
   "outputs": [
    {
     "data": {
      "text/plain": [
       "<matplotlib.axes._subplots.AxesSubplot at 0x114597e10>"
      ]
     },
     "execution_count": 6,
     "metadata": {},
     "output_type": "execute_result"
    },
    {
     "data": {
      "image/png": "[encoded data removed]",
      "text/plain": [
       "<Figure size 1080x720 with 1 Axes>"
      ]
     },
     "metadata": {
      "needs_background": "light"
     },
     "output_type": "display_data"
    }
   ],
   "source": [
    "  \n",
    "calorie_data = [\n",
    "    {\n",
    "        \"coach\": \"Kevin\",\n",
    "        \"calories\": df_kev['calories'].mean()\n",
    "    },\n",
    "    {\n",
    "        \"coach\": \"Shelby\",\n",
    "        \"calories\": df_sh['calories'].mean()\n",
    "    },\n",
    "    {\n",
    "        \"coach\": \"Stephen\",\n",
    "        \"calories\": df_st['calories'].mean()\n",
    "    }\n",
    "]\n",
    "\n",
    "cal_df = pd.DataFrame(calorie_data, index=['Kevin', 'Shelby', 'Stephen'])\n",
    "cal_df.plot(kind='bar', figsize=(15,10), ylim=(650))"
   ]
  },
  {
   "cell_type": "code",
   "execution_count": 7,
   "metadata": {},
   "outputs": [
    {
     "data": {
      "text/html": [
       "<div>\n",
       "<style scoped>\n",
       "    .dataframe tbody tr th:only-of-type {\n",
       "        vertical-align: middle;\n",
       "    }\n",
       "\n",
       "    .dataframe tbody tr th {\n",
       "        vertical-align: top;\n",
       "    }\n",
       "\n",
       "    .dataframe thead th {\n",
       "        text-align: right;\n",
       "    }\n",
       "</style>\n",
       "<table border=\"1\" class=\"dataframe\">\n",
       "  <thead>\n",
       "    <tr style=\"text-align: right;\">\n",
       "      <th></th>\n",
       "      <th>calories</th>\n",
       "      <th>coach</th>\n",
       "    </tr>\n",
       "  </thead>\n",
       "  <tbody>\n",
       "    <tr>\n",
       "      <th>Kevin</th>\n",
       "      <td>777.400000</td>\n",
       "      <td>Kevin</td>\n",
       "    </tr>\n",
       "    <tr>\n",
       "      <th>Shelby</th>\n",
       "      <td>804.900000</td>\n",
       "      <td>Shelby</td>\n",
       "    </tr>\n",
       "    <tr>\n",
       "      <th>Stephen</th>\n",
       "      <td>810.666667</td>\n",
       "      <td>Stephen</td>\n",
       "    </tr>\n",
       "  </tbody>\n",
       "</table>\n",
       "</div>"
      ],
      "text/plain": [
       "           calories    coach\n",
       "Kevin    777.400000    Kevin\n",
       "Shelby   804.900000   Shelby\n",
       "Stephen  810.666667  Stephen"
      ]
     },
     "execution_count": 7,
     "metadata": {},
     "output_type": "execute_result"
    }
   ],
   "source": [
    "cal_df.sort_values(ascending=True, by='calories')"
   ]
  },
  {
   "cell_type": "markdown",
   "metadata": {},
   "source": [
    "### Conclusion\n",
    "Yes, it seems that I do burn slightly less calories with Kevin as a coach"
   ]
  },
  {
   "cell_type": "markdown",
   "metadata": {},
   "source": [
    "### 2. Is my heart average heart rate decreasing the more classes I take?"
   ]
  },
  {
   "cell_type": "code",
   "execution_count": 8,
   "metadata": {},
   "outputs": [],
   "source": [
    "ot_df_cpy['date'] = pd.to_datetime(ot_df_cpy['date'])\n",
    "ot_df_cpy.sort_values(by='date', inplace=True)\n",
    "\n",
    "start = ot_df_cpy['date'].iloc[0]\n",
    "end = ot_df_cpy['date'].iloc[ot_df_cpy.shape[0]-1]\n",
    "\n",
    "drange = pytime.daysrange(start,end)"
   ]
  },
  {
   "cell_type": "markdown",
   "metadata": {},
   "source": [
    "#### Line Graph of average heart rate with increase in time spent at OT"
   ]
  },
  {
   "cell_type": "code",
   "execution_count": 9,
   "metadata": {},
   "outputs": [
    {
     "data": {
      "image/png": "[encoded data removed]",
      "text/plain": [
       "<Figure size 1440x360 with 1 Axes>"
      ]
     },
     "metadata": {
      "needs_background": "light"
     },
     "output_type": "display_data"
    }
   ],
   "source": [
    "line = ot_df_cpy.plot(x='date', y='avg_heart_rate', kind='line', figsize=(20,5))"
   ]
  },
  {
   "cell_type": "markdown",
   "metadata": {},
   "source": [
    "#### Calcuate the best fitting line"
   ]
  },
  {
   "cell_type": "code",
   "execution_count": 10,
   "metadata": {},
   "outputs": [
    {
     "data": {
      "text/plain": [
       "[<matplotlib.lines.Line2D at 0x114fbf9b0>,\n",
       " <matplotlib.lines.Line2D at 0x114fbfb00>]"
      ]
     },
     "execution_count": 10,
     "metadata": {},
     "output_type": "execute_result"
    },
    {
     "data": {
      "image/png": "[encoded data removed]",
      "text/plain": [
       "<Figure size 432x288 with 1 Axes>"
      ]
     },
     "metadata": {
      "needs_background": "light"
     },
     "output_type": "display_data"
    }
   ],
   "source": [
    "\n",
    "y = ot_df_cpy['avg_heart_rate']\n",
    "x = range(1,28)\n",
    "\n",
    "fit = np.polyfit(x,y,1)\n",
    "\n",
    "fit_fn = np.poly1d(fit) \n",
    "plt.pyplot.plot(x,y, 'yo', x, fit_fn(x), '--k')"
   ]
  },
  {
   "cell_type": "code",
   "execution_count": 11,
   "metadata": {},
   "outputs": [
    {
     "data": {
      "text/plain": [
       "-0.33028083028083244"
      ]
     },
     "execution_count": 11,
     "metadata": {},
     "output_type": "execute_result"
    }
   ],
   "source": [
    "slope = fit[0]\n",
    "slope"
   ]
  },
  {
   "cell_type": "markdown",
   "metadata": {},
   "source": [
    "### Conclusion\n",
    "Negative slope indicates a decrease in average heart rate over time"
   ]
  },
  {
   "cell_type": "markdown",
   "metadata": {},
   "source": [
    "### 3.  7:10am classes yield the best results"
   ]
  },
  {
   "cell_type": "code",
   "execution_count": 12,
   "metadata": {},
   "outputs": [
    {
     "data": {
      "text/plain": [
       "array(['7:10AM', '6:05AM', '5:30PM', '12:30PM', '10:00AM'], dtype=object)"
      ]
     },
     "execution_count": 12,
     "metadata": {},
     "output_type": "execute_result"
    }
   ],
   "source": [
    "ot_df_cpy['time'].unique()"
   ]
  },
  {
   "cell_type": "code",
   "execution_count": 13,
   "metadata": {},
   "outputs": [],
   "source": [
    "df_7 = ot_df_cpy[ot_df_cpy.time == '7:10AM']\n",
    "df_10 = ot_df_cpy[ot_df_cpy.time == '10:00AM']\n",
    "df_6 = ot_df_cpy[ot_df_cpy.time == '6:05AM']\n",
    "df_12 = ot_df_cpy[ot_df_cpy.time == '12:30PM']\n",
    "df_17 = ot_df_cpy[ot_df_cpy.time == '5:30PM']"
   ]
  },
  {
   "cell_type": "code",
   "execution_count": null,
   "metadata": {},
   "outputs": [],
   "source": []
  },
  {
   "cell_type": "code",
   "execution_count": 17,
   "metadata": {},
   "outputs": [
    {
     "data": {
      "text/html": [
       "<div>\n",
       "<style scoped>\n",
       "    .dataframe tbody tr th:only-of-type {\n",
       "        vertical-align: middle;\n",
       "    }\n",
       "\n",
       "    .dataframe tbody tr th {\n",
       "        vertical-align: top;\n",
       "    }\n",
       "\n",
       "    .dataframe thead th {\n",
       "        text-align: right;\n",
       "    }\n",
       "</style>\n",
       "<table border=\"1\" class=\"dataframe\">\n",
       "  <thead>\n",
       "    <tr style=\"text-align: right;\">\n",
       "      <th></th>\n",
       "      <th>calories</th>\n",
       "      <th>splat</th>\n",
       "      <th>time</th>\n",
       "    </tr>\n",
       "  </thead>\n",
       "  <tbody>\n",
       "    <tr>\n",
       "      <th>7:10am</th>\n",
       "      <td>782.882353</td>\n",
       "      <td>23.058824</td>\n",
       "      <td>7:10AM</td>\n",
       "    </tr>\n",
       "    <tr>\n",
       "      <th>10:00am</th>\n",
       "      <td>783.250000</td>\n",
       "      <td>17.750000</td>\n",
       "      <td>10:00AM</td>\n",
       "    </tr>\n",
       "    <tr>\n",
       "      <th>6:05am</th>\n",
       "      <td>859.000000</td>\n",
       "      <td>23.333333</td>\n",
       "      <td>6:05AM</td>\n",
       "    </tr>\n",
       "    <tr>\n",
       "      <th>12:30pm</th>\n",
       "      <td>1015.000000</td>\n",
       "      <td>36.000000</td>\n",
       "      <td>12:30PM</td>\n",
       "    </tr>\n",
       "    <tr>\n",
       "      <th>17:30pm</th>\n",
       "      <td>903.000000</td>\n",
       "      <td>38.000000</td>\n",
       "      <td>17:30AM</td>\n",
       "    </tr>\n",
       "  </tbody>\n",
       "</table>\n",
       "</div>"
      ],
      "text/plain": [
       "            calories      splat     time\n",
       "7:10am    782.882353  23.058824   7:10AM\n",
       "10:00am   783.250000  17.750000  10:00AM\n",
       "6:05am    859.000000  23.333333   6:05AM\n",
       "12:30pm  1015.000000  36.000000  12:30PM\n",
       "17:30pm   903.000000  38.000000  17:30AM"
      ]
     },
     "execution_count": 17,
     "metadata": {},
     "output_type": "execute_result"
    }
   ],
   "source": [
    "times = [\n",
    "    {\n",
    "        \"time\": \"7:10AM\",\n",
    "        \"calories\": df_7['calories'].mean(),\n",
    "        \"splat\": df_7['splat_pts'].mean()\n",
    "    },\n",
    "    {\n",
    "        \"time\": \"10:00AM\",\n",
    "        \"calories\": df_10['calories'].mean(),\n",
    "        \"splat\": df_10['splat_pts'].mean()\n",
    "    },\n",
    "    {\n",
    "        \"time\": \"6:05AM\",\n",
    "        \"calories\": df_6['calories'].mean(),\n",
    "        \"splat\": df_6['splat_pts'].mean()\n",
    "    },\n",
    "    {\n",
    "        \"time\": \"12:30PM\",\n",
    "        \"calories\": df_12['calories'].mean(),\n",
    "        \"splat\": df_12['splat_pts'].mean()\n",
    "    },\n",
    "    {\n",
    "        \"time\": \"17:30AM\",\n",
    "        \"calories\": df_17['calories'].mean(),\n",
    "        \"splat\": df_17['splat_pts'].mean()\n",
    "    },\n",
    "]\n",
    "\n",
    "time_df = pd.DataFrame(times, index=[\"7:10am\", \"10:00am\", \"6:05am\", \"12:30pm\", \"17:30pm\"])\n",
    "time_df"
   ]
  },
  {
   "cell_type": "code",
   "execution_count": 239,
   "metadata": {},
   "outputs": [
    {
     "data": {
      "text/plain": [
       "<matplotlib.axes._subplots.AxesSubplot at 0x1a200e3550>"
      ]
     },
     "execution_count": 239,
     "metadata": {},
     "output_type": "execute_result"
    },
    {
     "data": {
      "image/png": "[encoded data removed]",
      "text/plain": [
       "<Figure size 1080x720 with 1 Axes>"
      ]
     },
     "metadata": {
      "needs_background": "light"
     },
     "output_type": "display_data"
    }
   ],
   "source": [
    "time_df.plot(kind='bar', y='calories', figsize=(15,10), ylim=700)"
   ]
  },
  {
   "cell_type": "markdown",
   "metadata": {},
   "source": [
    "Drop 12:30pm as that was a 90 minute class"
   ]
  },
  {
   "cell_type": "code",
   "execution_count": 15,
   "metadata": {},
   "outputs": [],
   "source": [
    "time_df_cleaned = time_df.drop(labels=[\"12:30pm\"])\n"
   ]
  },
  {
   "cell_type": "code",
   "execution_count": 272,
   "metadata": {},
   "outputs": [
    {
     "data": {
      "text/plain": [
       "<matplotlib.axes._subplots.AxesSubplot at 0x11cd25390>"
      ]
     },
     "execution_count": 272,
     "metadata": {},
     "output_type": "execute_result"
    },
    {
     "data": {
      "image/png": "[encoded data removed]",
      "text/plain": [
       "<Figure size 1080x720 with 1 Axes>"
      ]
     },
     "metadata": {
      "needs_background": "light"
     },
     "output_type": "display_data"
    }
   ],
   "source": [
    "time_df_cleaned.plot(kind='bar', y='calories', figsize=(15,10), ylim=700)"
   ]
  },
  {
   "cell_type": "markdown",
   "metadata": {},
   "source": [
    "#### Conclusion\n",
    "Looks like I burn more calories at 17:30 rather than 7:10.\n",
    "Do splat points align with this?"
   ]
  },
  {
   "cell_type": "code",
   "execution_count": 16,
   "metadata": {},
   "outputs": [
    {
     "data": {
      "text/plain": [
       "<matplotlib.axes._subplots.AxesSubplot at 0x1150024a8>"
      ]
     },
     "execution_count": 16,
     "metadata": {},
     "output_type": "execute_result"
    },
    {
     "data": {
      "image/png": "[encoded data removed]",
      "text/plain": [
       "<Figure size 1080x720 with 1 Axes>"
      ]
     },
     "metadata": {
      "needs_background": "light"
     },
     "output_type": "display_data"
    }
   ],
   "source": [
    "time_df_cleaned.plot(kind='bar', y='splat', figsize=(15,10))"
   ]
  },
  {
   "cell_type": "markdown",
   "metadata": {},
   "source": [
    "#### Conclusion\n",
    "It does look like I also gain more splat points at 17:30 than 7:10. However that does not necessarily mean there is a positive correlation between calories burnt and splat points earned. \n",
    "As you can see I gain slightly more splat points at 7:10 than 6:05 eventhough I burn more calories at 6:05"
   ]
  },
  {
   "cell_type": "code",
   "execution_count": null,
   "metadata": {},
   "outputs": [],
   "source": []
  }
 ],
 "metadata": {
  "kernelspec": {
   "display_name": "Python 3",
   "language": "python",
   "name": "python3"
  },
  "language_info": {
   "codemirror_mode": {
    "name": "ipython",
    "version": 3
   },
   "file_extension": ".py",
   "mimetype": "text/x-python",
   "name": "python",
   "nbconvert_exporter": "python",
   "pygments_lexer": "ipython3",
   "version": "3.7.0"
  }
 },
 "nbformat": 4,
 "nbformat_minor": 2
}
